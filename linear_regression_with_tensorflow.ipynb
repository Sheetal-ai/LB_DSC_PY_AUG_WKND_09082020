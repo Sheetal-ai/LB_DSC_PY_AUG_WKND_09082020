{
  "nbformat": 4,
  "nbformat_minor": 0,
  "metadata": {
    "colab": {
      "name": "linear_regression_with_tensorflow.ipynb",
      "provenance": [],
      "collapsed_sections": [],
      "include_colab_link": true
    },
    "kernelspec": {
      "name": "python3",
      "display_name": "Python 3"
    },
    "accelerator": "GPU"
  },
  "cells": [
    {
      "cell_type": "markdown",
      "metadata": {
        "id": "view-in-github",
        "colab_type": "text"
      },
      "source": [
        "<a href=\"https://colab.research.google.com/github/Sheetal-ai/LB_DSC_PY_AUG_WKND_09082020/blob/master/linear_regression_with_tensorflow.ipynb\" target=\"_parent\"><img src=\"https://colab.research.google.com/assets/colab-badge.svg\" alt=\"Open In Colab\"/></a>"
      ]
    },
    {
      "cell_type": "code",
      "metadata": {
        "colab": {
          "base_uri": "https://localhost:8080/",
          "height": 35
        },
        "id": "oK3qN_GQKLRz",
        "outputId": "c1ca3388-2fd0-49f0-a6d7-c8cf40039ce7"
      },
      "source": [
        "import tensorflow as tf\n",
        "tf.__version__"
      ],
      "execution_count": null,
      "outputs": [
        {
          "output_type": "execute_result",
          "data": {
            "application/vnd.google.colaboratory.intrinsic+json": {
              "type": "string"
            },
            "text/plain": [
              "'2.4.1'"
            ]
          },
          "metadata": {
            "tags": []
          },
          "execution_count": 1
        }
      ]
    },
    {
      "cell_type": "markdown",
      "metadata": {
        "id": "QVIgRA-5qwkp"
      },
      "source": [
        "# New section"
      ]
    },
    {
      "cell_type": "code",
      "metadata": {
        "id": "eE0ReW4fg2dn"
      },
      "source": [
        "#importing important libraries\n",
        "import tensorflow as tf\n",
        "import numpy as np\n",
        "import pandas as pd\n",
        "import matplotlib.pyplot as plt"
      ],
      "execution_count": null,
      "outputs": []
    },
    {
      "cell_type": "code",
      "metadata": {
        "colab": {
          "base_uri": "https://localhost:8080/",
          "height": 204
        },
        "id": "lFAUivmgvYGu",
        "outputId": "846319f8-aacd-4191-8ce1-6ef41471dd74"
      },
      "source": [
        "#loading the dataset to pandas dataframe\n",
        "url = 'https://raw.githubusercontent.com/Afsaan/Linear-Regression-with-TensorFlow-2.x/master/graduate_admission.csv'\n",
        "df = pd.read_csv(url)\n",
        "\n",
        "#printing top 5 rows\n",
        "df.head()"
      ],
      "execution_count": null,
      "outputs": [
        {
          "output_type": "execute_result",
          "data": {
            "text/html": [
              "<div>\n",
              "<style scoped>\n",
              "    .dataframe tbody tr th:only-of-type {\n",
              "        vertical-align: middle;\n",
              "    }\n",
              "\n",
              "    .dataframe tbody tr th {\n",
              "        vertical-align: top;\n",
              "    }\n",
              "\n",
              "    .dataframe thead th {\n",
              "        text-align: right;\n",
              "    }\n",
              "</style>\n",
              "<table border=\"1\" class=\"dataframe\">\n",
              "  <thead>\n",
              "    <tr style=\"text-align: right;\">\n",
              "      <th></th>\n",
              "      <th>index</th>\n",
              "      <th>gre</th>\n",
              "      <th>toefl</th>\n",
              "      <th>uni_rating</th>\n",
              "      <th>sop</th>\n",
              "      <th>lor</th>\n",
              "      <th>cgpa</th>\n",
              "      <th>research</th>\n",
              "      <th>admit</th>\n",
              "    </tr>\n",
              "  </thead>\n",
              "  <tbody>\n",
              "    <tr>\n",
              "      <th>0</th>\n",
              "      <td>1</td>\n",
              "      <td>337</td>\n",
              "      <td>118</td>\n",
              "      <td>4</td>\n",
              "      <td>4.5</td>\n",
              "      <td>4.5</td>\n",
              "      <td>9.65</td>\n",
              "      <td>1</td>\n",
              "      <td>0.92</td>\n",
              "    </tr>\n",
              "    <tr>\n",
              "      <th>1</th>\n",
              "      <td>2</td>\n",
              "      <td>324</td>\n",
              "      <td>107</td>\n",
              "      <td>4</td>\n",
              "      <td>4.0</td>\n",
              "      <td>4.5</td>\n",
              "      <td>8.87</td>\n",
              "      <td>1</td>\n",
              "      <td>0.76</td>\n",
              "    </tr>\n",
              "    <tr>\n",
              "      <th>2</th>\n",
              "      <td>3</td>\n",
              "      <td>316</td>\n",
              "      <td>104</td>\n",
              "      <td>3</td>\n",
              "      <td>3.0</td>\n",
              "      <td>3.5</td>\n",
              "      <td>8.00</td>\n",
              "      <td>1</td>\n",
              "      <td>0.72</td>\n",
              "    </tr>\n",
              "    <tr>\n",
              "      <th>3</th>\n",
              "      <td>4</td>\n",
              "      <td>322</td>\n",
              "      <td>110</td>\n",
              "      <td>3</td>\n",
              "      <td>3.5</td>\n",
              "      <td>2.5</td>\n",
              "      <td>8.67</td>\n",
              "      <td>1</td>\n",
              "      <td>0.80</td>\n",
              "    </tr>\n",
              "    <tr>\n",
              "      <th>4</th>\n",
              "      <td>5</td>\n",
              "      <td>314</td>\n",
              "      <td>103</td>\n",
              "      <td>2</td>\n",
              "      <td>2.0</td>\n",
              "      <td>3.0</td>\n",
              "      <td>8.21</td>\n",
              "      <td>0</td>\n",
              "      <td>0.65</td>\n",
              "    </tr>\n",
              "  </tbody>\n",
              "</table>\n",
              "</div>"
            ],
            "text/plain": [
              "   index  gre  toefl  uni_rating  sop  lor  cgpa  research  admit\n",
              "0      1  337    118           4  4.5  4.5  9.65         1   0.92\n",
              "1      2  324    107           4  4.0  4.5  8.87         1   0.76\n",
              "2      3  316    104           3  3.0  3.5  8.00         1   0.72\n",
              "3      4  322    110           3  3.5  2.5  8.67         1   0.80\n",
              "4      5  314    103           2  2.0  3.0  8.21         0   0.65"
            ]
          },
          "metadata": {
            "tags": []
          },
          "execution_count": 3
        }
      ]
    },
    {
      "cell_type": "code",
      "metadata": {
        "colab": {
          "base_uri": "https://localhost:8080/"
        },
        "id": "Y5S0xRSizPIo",
        "outputId": "bf5481a3-b168-4ecd-bd79-cd3c86c3a801"
      },
      "source": [
        "# Basic information of the dataset\n",
        "df.info()"
      ],
      "execution_count": null,
      "outputs": [
        {
          "output_type": "stream",
          "text": [
            "<class 'pandas.core.frame.DataFrame'>\n",
            "RangeIndex: 400 entries, 0 to 399\n",
            "Data columns (total 9 columns):\n",
            " #   Column      Non-Null Count  Dtype  \n",
            "---  ------      --------------  -----  \n",
            " 0   index       400 non-null    int64  \n",
            " 1   gre         400 non-null    int64  \n",
            " 2   toefl       400 non-null    int64  \n",
            " 3   uni_rating  400 non-null    int64  \n",
            " 4   sop         400 non-null    float64\n",
            " 5   lor         400 non-null    float64\n",
            " 6   cgpa        400 non-null    float64\n",
            " 7   research    400 non-null    int64  \n",
            " 8   admit       400 non-null    float64\n",
            "dtypes: float64(4), int64(5)\n",
            "memory usage: 28.2 KB\n"
          ],
          "name": "stdout"
        }
      ]
    },
    {
      "cell_type": "code",
      "metadata": {
        "id": "5N7AojFPyMgX"
      },
      "source": [
        "#target \n",
        "target = 'admit'\n",
        "\n",
        "# Categorical Columns\n",
        "categorical_columns = ['research']\n",
        "df = pd.get_dummies(df,columns = categorical_columns)"
      ],
      "execution_count": null,
      "outputs": []
    },
    {
      "cell_type": "code",
      "metadata": {
        "colab": {
          "base_uri": "https://localhost:8080/",
          "height": 419
        },
        "id": "NoSEAV4VNFpG",
        "outputId": "bb47c280-0e50-4d80-b3f8-e20b65756cfd"
      },
      "source": [
        "df"
      ],
      "execution_count": null,
      "outputs": [
        {
          "output_type": "execute_result",
          "data": {
            "text/html": [
              "<div>\n",
              "<style scoped>\n",
              "    .dataframe tbody tr th:only-of-type {\n",
              "        vertical-align: middle;\n",
              "    }\n",
              "\n",
              "    .dataframe tbody tr th {\n",
              "        vertical-align: top;\n",
              "    }\n",
              "\n",
              "    .dataframe thead th {\n",
              "        text-align: right;\n",
              "    }\n",
              "</style>\n",
              "<table border=\"1\" class=\"dataframe\">\n",
              "  <thead>\n",
              "    <tr style=\"text-align: right;\">\n",
              "      <th></th>\n",
              "      <th>index</th>\n",
              "      <th>gre</th>\n",
              "      <th>toefl</th>\n",
              "      <th>uni_rating</th>\n",
              "      <th>sop</th>\n",
              "      <th>lor</th>\n",
              "      <th>cgpa</th>\n",
              "      <th>admit</th>\n",
              "      <th>research_0</th>\n",
              "      <th>research_1</th>\n",
              "    </tr>\n",
              "  </thead>\n",
              "  <tbody>\n",
              "    <tr>\n",
              "      <th>0</th>\n",
              "      <td>1</td>\n",
              "      <td>337</td>\n",
              "      <td>118</td>\n",
              "      <td>4</td>\n",
              "      <td>4.5</td>\n",
              "      <td>4.5</td>\n",
              "      <td>9.65</td>\n",
              "      <td>0.92</td>\n",
              "      <td>0</td>\n",
              "      <td>1</td>\n",
              "    </tr>\n",
              "    <tr>\n",
              "      <th>1</th>\n",
              "      <td>2</td>\n",
              "      <td>324</td>\n",
              "      <td>107</td>\n",
              "      <td>4</td>\n",
              "      <td>4.0</td>\n",
              "      <td>4.5</td>\n",
              "      <td>8.87</td>\n",
              "      <td>0.76</td>\n",
              "      <td>0</td>\n",
              "      <td>1</td>\n",
              "    </tr>\n",
              "    <tr>\n",
              "      <th>2</th>\n",
              "      <td>3</td>\n",
              "      <td>316</td>\n",
              "      <td>104</td>\n",
              "      <td>3</td>\n",
              "      <td>3.0</td>\n",
              "      <td>3.5</td>\n",
              "      <td>8.00</td>\n",
              "      <td>0.72</td>\n",
              "      <td>0</td>\n",
              "      <td>1</td>\n",
              "    </tr>\n",
              "    <tr>\n",
              "      <th>3</th>\n",
              "      <td>4</td>\n",
              "      <td>322</td>\n",
              "      <td>110</td>\n",
              "      <td>3</td>\n",
              "      <td>3.5</td>\n",
              "      <td>2.5</td>\n",
              "      <td>8.67</td>\n",
              "      <td>0.80</td>\n",
              "      <td>0</td>\n",
              "      <td>1</td>\n",
              "    </tr>\n",
              "    <tr>\n",
              "      <th>4</th>\n",
              "      <td>5</td>\n",
              "      <td>314</td>\n",
              "      <td>103</td>\n",
              "      <td>2</td>\n",
              "      <td>2.0</td>\n",
              "      <td>3.0</td>\n",
              "      <td>8.21</td>\n",
              "      <td>0.65</td>\n",
              "      <td>1</td>\n",
              "      <td>0</td>\n",
              "    </tr>\n",
              "    <tr>\n",
              "      <th>...</th>\n",
              "      <td>...</td>\n",
              "      <td>...</td>\n",
              "      <td>...</td>\n",
              "      <td>...</td>\n",
              "      <td>...</td>\n",
              "      <td>...</td>\n",
              "      <td>...</td>\n",
              "      <td>...</td>\n",
              "      <td>...</td>\n",
              "      <td>...</td>\n",
              "    </tr>\n",
              "    <tr>\n",
              "      <th>395</th>\n",
              "      <td>396</td>\n",
              "      <td>324</td>\n",
              "      <td>110</td>\n",
              "      <td>3</td>\n",
              "      <td>3.5</td>\n",
              "      <td>3.5</td>\n",
              "      <td>9.04</td>\n",
              "      <td>0.82</td>\n",
              "      <td>0</td>\n",
              "      <td>1</td>\n",
              "    </tr>\n",
              "    <tr>\n",
              "      <th>396</th>\n",
              "      <td>397</td>\n",
              "      <td>325</td>\n",
              "      <td>107</td>\n",
              "      <td>3</td>\n",
              "      <td>3.0</td>\n",
              "      <td>3.5</td>\n",
              "      <td>9.11</td>\n",
              "      <td>0.84</td>\n",
              "      <td>0</td>\n",
              "      <td>1</td>\n",
              "    </tr>\n",
              "    <tr>\n",
              "      <th>397</th>\n",
              "      <td>398</td>\n",
              "      <td>330</td>\n",
              "      <td>116</td>\n",
              "      <td>4</td>\n",
              "      <td>5.0</td>\n",
              "      <td>4.5</td>\n",
              "      <td>9.45</td>\n",
              "      <td>0.91</td>\n",
              "      <td>0</td>\n",
              "      <td>1</td>\n",
              "    </tr>\n",
              "    <tr>\n",
              "      <th>398</th>\n",
              "      <td>399</td>\n",
              "      <td>312</td>\n",
              "      <td>103</td>\n",
              "      <td>3</td>\n",
              "      <td>3.5</td>\n",
              "      <td>4.0</td>\n",
              "      <td>8.78</td>\n",
              "      <td>0.67</td>\n",
              "      <td>1</td>\n",
              "      <td>0</td>\n",
              "    </tr>\n",
              "    <tr>\n",
              "      <th>399</th>\n",
              "      <td>400</td>\n",
              "      <td>333</td>\n",
              "      <td>117</td>\n",
              "      <td>4</td>\n",
              "      <td>5.0</td>\n",
              "      <td>4.0</td>\n",
              "      <td>9.66</td>\n",
              "      <td>0.95</td>\n",
              "      <td>0</td>\n",
              "      <td>1</td>\n",
              "    </tr>\n",
              "  </tbody>\n",
              "</table>\n",
              "<p>400 rows × 10 columns</p>\n",
              "</div>"
            ],
            "text/plain": [
              "     index  gre  toefl  uni_rating  ...  cgpa  admit  research_0  research_1\n",
              "0        1  337    118           4  ...  9.65   0.92           0           1\n",
              "1        2  324    107           4  ...  8.87   0.76           0           1\n",
              "2        3  316    104           3  ...  8.00   0.72           0           1\n",
              "3        4  322    110           3  ...  8.67   0.80           0           1\n",
              "4        5  314    103           2  ...  8.21   0.65           1           0\n",
              "..     ...  ...    ...         ...  ...   ...    ...         ...         ...\n",
              "395    396  324    110           3  ...  9.04   0.82           0           1\n",
              "396    397  325    107           3  ...  9.11   0.84           0           1\n",
              "397    398  330    116           4  ...  9.45   0.91           0           1\n",
              "398    399  312    103           3  ...  8.78   0.67           1           0\n",
              "399    400  333    117           4  ...  9.66   0.95           0           1\n",
              "\n",
              "[400 rows x 10 columns]"
            ]
          },
          "metadata": {
            "tags": []
          },
          "execution_count": 6
        }
      ]
    },
    {
      "cell_type": "code",
      "metadata": {
        "id": "rlrbWxrhyO47"
      },
      "source": [
        "# Seperating data into Training and Validation Data\n",
        "training_df = df.sample(frac=0.85, random_state=101)\n",
        "validation_df = df.drop(training_df.index)"
      ],
      "execution_count": null,
      "outputs": []
    },
    {
      "cell_type": "code",
      "metadata": {
        "colab": {
          "base_uri": "https://localhost:8080/"
        },
        "id": "7nFfo0P80h3H",
        "outputId": "8d52cc06-a376-4d88-f885-53e5b29ae924"
      },
      "source": [
        "print(f'[INFO] shape of training data {training_df.shape}')\n",
        "print(f'[INFO] shape of validation data {validation_df.shape}')"
      ],
      "execution_count": null,
      "outputs": [
        {
          "output_type": "stream",
          "text": [
            "[INFO] shape of training data (340, 10)\n",
            "[INFO] shape of validation data (60, 10)\n"
          ],
          "name": "stdout"
        }
      ]
    },
    {
      "cell_type": "code",
      "metadata": {
        "id": "BI7897790B8X"
      },
      "source": [
        "# Removing labels from data and converting to numpy array\n",
        "training_labels = training_df.pop(target).values\n",
        "validation_labels = validation_df.pop(target).values"
      ],
      "execution_count": null,
      "outputs": []
    },
    {
      "cell_type": "code",
      "metadata": {
        "colab": {
          "base_uri": "https://localhost:8080/"
        },
        "id": "ksG02ePD104j",
        "outputId": "bc815057-36ed-4032-f36d-e798d230e60a"
      },
      "source": [
        "# basic stats of the training dataset\n",
        "stats = training_df.describe().transpose()\n",
        "print(stats)"
      ],
      "execution_count": null,
      "outputs": [
        {
          "output_type": "stream",
          "text": [
            "            count        mean         std  ...      50%     75%     max\n",
            "index       340.0  200.150000  114.640690  ...  199.500  297.25  400.00\n",
            "gre         340.0  316.561765   11.390585  ...  316.500  325.00  340.00\n",
            "toefl       340.0  107.247059    6.120050  ...  107.000  111.25  120.00\n",
            "uni_rating  340.0    3.070588    1.134477  ...    3.000    4.00    5.00\n",
            "sop         340.0    3.388235    1.017912  ...    3.500    4.00    5.00\n",
            "lor         340.0    3.451471    0.897307  ...    3.500    4.00    5.00\n",
            "cgpa        340.0    8.584794    0.605356  ...    8.565    9.08    9.92\n",
            "research_0  340.0    0.476471    0.500182  ...    0.000    1.00    1.00\n",
            "research_1  340.0    0.523529    0.500182  ...    1.000    1.00    1.00\n",
            "\n",
            "[9 rows x 8 columns]\n"
          ],
          "name": "stdout"
        }
      ]
    },
    {
      "cell_type": "code",
      "metadata": {
        "id": "snko_CNc15Pj"
      },
      "source": [
        "# scaling data w.r.t training_df\n",
        "normalization_training_df = (training_df-stats['mean'])/stats['std']\n",
        "normalization_validation_df = (validation_df-stats['mean'])/stats['std']"
      ],
      "execution_count": null,
      "outputs": []
    },
    {
      "cell_type": "code",
      "metadata": {
        "id": "PZenVPqi4Gdj"
      },
      "source": [
        "# converting the data to numpy array\n",
        "training_data = normalization_training_df.to_numpy()\n",
        "validation_data = normalization_validation_df.to_numpy()"
      ],
      "execution_count": null,
      "outputs": []
    },
    {
      "cell_type": "code",
      "metadata": {
        "colab": {
          "base_uri": "https://localhost:8080/"
        },
        "id": "gvUQ6ADt5siU",
        "outputId": "9629dfe5-31d0-4364-e35f-9558fd4dbdc3"
      },
      "source": [
        "# data type\n",
        "print(f'[INFO] type of training data {type(training_data)}')\n",
        "print(f'[INFO] type of validation data {type(validation_data)}')"
      ],
      "execution_count": null,
      "outputs": [
        {
          "output_type": "stream",
          "text": [
            "[INFO] type of training data <class 'numpy.ndarray'>\n",
            "[INFO] type of validation data <class 'numpy.ndarray'>\n"
          ],
          "name": "stdout"
        }
      ]
    },
    {
      "cell_type": "code",
      "metadata": {
        "id": "L0M_3Iaz5v-A"
      },
      "source": [
        "# prepare tf.data.Dataset for training\n",
        "def prepare_dataset(data , labels , batch, shuffle):\n",
        "  dataset = tf.data.Dataset.from_tensor_slices((data , labels))\n",
        "  dataset = dataset.shuffle(shuffle)\n",
        "  dataset = dataset.batch(batch).prefetch(1)\n",
        "  return dataset"
      ],
      "execution_count": null,
      "outputs": []
    },
    {
      "cell_type": "code",
      "metadata": {
        "id": "lfG-1FgX-Ta9"
      },
      "source": [
        "# preparing Dataset for training\n",
        "batch_size = 32\n",
        "buffer = 100\n",
        "training_dataset = prepare_dataset(training_data, training_labels, batch_size, buffer)\n",
        "validation_dataset = prepare_dataset(validation_data, validation_labels, batch_size, buffer)"
      ],
      "execution_count": null,
      "outputs": []
    },
    {
      "cell_type": "code",
      "metadata": {
        "colab": {
          "base_uri": "https://localhost:8080/"
        },
        "id": "txVCKsne5nHB",
        "outputId": "9436fc01-21d7-4d24-bec1-1a5cd3dedcce"
      },
      "source": [
        "print(type(training_data))"
      ],
      "execution_count": null,
      "outputs": [
        {
          "output_type": "stream",
          "text": [
            "<class 'numpy.ndarray'>\n"
          ],
          "name": "stdout"
        }
      ]
    },
    {
      "cell_type": "code",
      "metadata": {
        "id": "1hgCQPCoSNxv"
      },
      "source": [
        "import tensorflow as tf"
      ],
      "execution_count": null,
      "outputs": []
    },
    {
      "cell_type": "code",
      "metadata": {
        "id": "BAYlNhh5Sb_V"
      },
      "source": [
        "# creating the model\n",
        "model = tf.keras.Sequential([\n",
        "    tf.keras.layers.Dense(6 , activation='relu'), #first hidden layer\n",
        "        tf.keras.layers.Dense(3 , activation='sigmoid'),# second hiddeen layer\n",
        "        tf.keras.layers.Dense(7 , activation='relu'),\n",
        "\n",
        "        tf.keras.layers.Dense(1)\n",
        "        ])"
      ],
      "execution_count": null,
      "outputs": []
    },
    {
      "cell_type": "code",
      "metadata": {
        "id": "A3yXQU8G_-mD"
      },
      "source": [
        "# #creating the model\n",
        "# model = tf.keras.Sequential([\n",
        "#         tf.keras.layers.Dense(128 , activation='relu'),\n",
        "#         tf.keras.layers.Dense(64 , activation='relu'),\n",
        "#         tf.keras.layers.Dense(32 , activation='relu'),\n",
        "#         tf.keras.layers.Dense(1)\n",
        "#         ])"
      ],
      "execution_count": null,
      "outputs": []
    },
    {
      "cell_type": "code",
      "metadata": {
        "id": "rTLOk_CXBBsr"
      },
      "source": [
        "# compiling the model\n",
        "model.compile(\n",
        "    loss = tf.keras.losses.mse,\n",
        "    optimizer = tf.keras.optimizers.SGD(),\n",
        "    metrics=['mae']\n",
        ")"
      ],
      "execution_count": null,
      "outputs": []
    },
    {
      "cell_type": "code",
      "metadata": {
        "colab": {
          "base_uri": "https://localhost:8080/"
        },
        "id": "CZKQV2h0B9VE",
        "outputId": "5ebaa224-3f81-4b23-da70-817920c33c65"
      },
      "source": [
        "history = model.fit(\n",
        "    training_dataset,\n",
        "    epochs=20,\n",
        "    validation_data = validation_dataset\n",
        ")"
      ],
      "execution_count": null,
      "outputs": [
        {
          "output_type": "stream",
          "text": [
            "Epoch 1/20\n",
            "11/11 [==============================] - 2s 35ms/step - loss: 0.5468 - mae: 0.7249 - val_loss: 0.3106 - val_mae: 0.5359\n",
            "Epoch 2/20\n",
            "11/11 [==============================] - 0s 5ms/step - loss: 0.2460 - mae: 0.4649 - val_loss: 0.1505 - val_mae: 0.3478\n",
            "Epoch 3/20\n",
            "11/11 [==============================] - 0s 4ms/step - loss: 0.1296 - mae: 0.3043 - val_loss: 0.0839 - val_mae: 0.2369\n",
            "Epoch 4/20\n",
            "11/11 [==============================] - 0s 5ms/step - loss: 0.0778 - mae: 0.2161 - val_loss: 0.0553 - val_mae: 0.1874\n",
            "Epoch 5/20\n",
            "11/11 [==============================] - 0s 4ms/step - loss: 0.0589 - mae: 0.1841 - val_loss: 0.0433 - val_mae: 0.1647\n",
            "Epoch 6/20\n",
            "11/11 [==============================] - 0s 4ms/step - loss: 0.0449 - mae: 0.1628 - val_loss: 0.0376 - val_mae: 0.1527\n",
            "Epoch 7/20\n",
            "11/11 [==============================] - 0s 4ms/step - loss: 0.0439 - mae: 0.1647 - val_loss: 0.0348 - val_mae: 0.1463\n",
            "Epoch 8/20\n",
            "11/11 [==============================] - 0s 4ms/step - loss: 0.0408 - mae: 0.1620 - val_loss: 0.0327 - val_mae: 0.1420\n",
            "Epoch 9/20\n",
            "11/11 [==============================] - 0s 5ms/step - loss: 0.0406 - mae: 0.1616 - val_loss: 0.0311 - val_mae: 0.1390\n",
            "Epoch 10/20\n",
            "11/11 [==============================] - 0s 5ms/step - loss: 0.0382 - mae: 0.1572 - val_loss: 0.0297 - val_mae: 0.1365\n",
            "Epoch 11/20\n",
            "11/11 [==============================] - 0s 4ms/step - loss: 0.0366 - mae: 0.1559 - val_loss: 0.0286 - val_mae: 0.1346\n",
            "Epoch 12/20\n",
            "11/11 [==============================] - 0s 4ms/step - loss: 0.0369 - mae: 0.1578 - val_loss: 0.0277 - val_mae: 0.1330\n",
            "Epoch 13/20\n",
            "11/11 [==============================] - 0s 4ms/step - loss: 0.0351 - mae: 0.1525 - val_loss: 0.0270 - val_mae: 0.1316\n",
            "Epoch 14/20\n",
            "11/11 [==============================] - 0s 4ms/step - loss: 0.0335 - mae: 0.1481 - val_loss: 0.0262 - val_mae: 0.1302\n",
            "Epoch 15/20\n",
            "11/11 [==============================] - 0s 4ms/step - loss: 0.0319 - mae: 0.1435 - val_loss: 0.0256 - val_mae: 0.1290\n",
            "Epoch 16/20\n",
            "11/11 [==============================] - 0s 4ms/step - loss: 0.0322 - mae: 0.1447 - val_loss: 0.0251 - val_mae: 0.1280\n",
            "Epoch 17/20\n",
            "11/11 [==============================] - 0s 4ms/step - loss: 0.0305 - mae: 0.1421 - val_loss: 0.0245 - val_mae: 0.1267\n",
            "Epoch 18/20\n",
            "11/11 [==============================] - 0s 4ms/step - loss: 0.0272 - mae: 0.1342 - val_loss: 0.0240 - val_mae: 0.1255\n",
            "Epoch 19/20\n",
            "11/11 [==============================] - 0s 5ms/step - loss: 0.0288 - mae: 0.1378 - val_loss: 0.0235 - val_mae: 0.1245\n",
            "Epoch 20/20\n",
            "11/11 [==============================] - 0s 4ms/step - loss: 0.0285 - mae: 0.1387 - val_loss: 0.0231 - val_mae: 0.1239\n"
          ],
          "name": "stdout"
        }
      ]
    },
    {
      "cell_type": "code",
      "metadata": {
        "colab": {
          "base_uri": "https://localhost:8080/"
        },
        "id": "T05Cutmk6E7r",
        "outputId": "cec65f5a-de03-4fb3-f86b-6e5ef3f08a68"
      },
      "source": [
        "model.summary()"
      ],
      "execution_count": null,
      "outputs": [
        {
          "output_type": "stream",
          "text": [
            "Model: \"sequential\"\n",
            "_________________________________________________________________\n",
            "Layer (type)                 Output Shape              Param #   \n",
            "=================================================================\n",
            "dense (Dense)                (None, 6)                 60        \n",
            "_________________________________________________________________\n",
            "dense_1 (Dense)              (None, 3)                 21        \n",
            "_________________________________________________________________\n",
            "dense_2 (Dense)              (None, 7)                 28        \n",
            "_________________________________________________________________\n",
            "dense_3 (Dense)              (None, 1)                 8         \n",
            "=================================================================\n",
            "Total params: 117\n",
            "Trainable params: 117\n",
            "Non-trainable params: 0\n",
            "_________________________________________________________________\n"
          ],
          "name": "stdout"
        }
      ]
    },
    {
      "cell_type": "code",
      "metadata": {
        "colab": {
          "base_uri": "https://localhost:8080/",
          "height": 593
        },
        "id": "0h1947cXCGXw",
        "outputId": "b43b11f1-428d-46b5-9e70-bd7e18310443"
      },
      "source": [
        "# plotting Training and Validation Loss and MAE\n",
        "mae = history.history['mae']\n",
        "validation_mae = history.history['val_mae']\n",
        "epochs = range(len(mae))\n",
        "\n",
        "plt.figure(figsize=(15,10))\n",
        "plt.plot(epochs, mae , label=['Training MAE'])\n",
        "plt.plot(epochs, validation_mae , label=['Validation MAE'])\n",
        "plt.legend()\n",
        "plt.savefig('mae.jpg')\n",
        "plt.show()"
      ],
      "execution_count": null,
      "outputs": [
        {
          "output_type": "display_data",
          "data": {
            "image/png": "[encoded data removed]",
            "text/plain": [
              "<Figure size 1080x720 with 1 Axes>"
            ]
          },
          "metadata": {
            "tags": [],
            "needs_background": "light"
          }
        }
      ]
    },
    {
      "cell_type": "code",
      "metadata": {
        "colab": {
          "base_uri": "https://localhost:8080/",
          "height": 592
        },
        "id": "Gsr-LO93DzMI",
        "outputId": "f96fa7e8-3138-4501-af64-a5506bded37f"
      },
      "source": [
        "loss = history.history['loss']\n",
        "validation_loss = history.history['val_loss']\n",
        "epochs = range(len(mae))\n",
        "\n",
        "\n",
        "plt.figure(figsize=(15,10))\n",
        "plt.plot(epochs, loss , label=['Training Loss'])\n",
        "plt.plot(epochs, validation_loss , label=['Validation Loss'])\n",
        "plt.legend()\n",
        "plt.savefig('loss.jpg')\n",
        "plt.show()"
      ],
      "execution_count": null,
      "outputs": [
        {
          "output_type": "display_data",
          "data": {
            "image/png": "[encoded data removed]",
            "text/plain": [
              "<Figure size 1080x720 with 1 Axes>"
            ]
          },
          "metadata": {
            "tags": [],
            "needs_background": "light"
          }
        }
      ]
    },
    {
      "cell_type": "code",
      "metadata": {
        "id": "6vaOUeZuE-9K"
      },
      "source": [
        "model.predict([test_Datatset])"
      ],
      "execution_count": null,
      "outputs": []
    }
  ]
}